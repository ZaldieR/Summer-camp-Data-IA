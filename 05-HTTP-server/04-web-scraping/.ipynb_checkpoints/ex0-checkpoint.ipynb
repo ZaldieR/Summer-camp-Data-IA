{
 "cells": [
  {
   "cell_type": "code",
   "execution_count": 7,
   "id": "c32bbdfd",
   "metadata": {},
   "outputs": [],
   "source": [
    "import requests\n",
    "from user_agents import parse"
   ]
  },
  {
   "cell_type": "code",
   "execution_count": 14,
   "id": "ae3ddcd5",
   "metadata": {},
   "outputs": [
    {
     "name": "stdout",
     "output_type": "stream",
     "text": [
      "<Response [200]>\n"
     ]
    }
   ],
   "source": [
    "def scrap():\n",
    "    ua = \"Mozilla/5.0(WindowsNT10.0;Win64;x64)AppleWebKit/537.36(KHTML,like Gecko)Chrome/79.0.3945.74Safari/537.36 Edg/79.0.309.43\"\n",
    "    url = \"https://www.leboncoin.fr\"\n",
    "    content = requests.get(url, headers={\"User-Agent\": ua})\n",
    "    #data = content.json()\n",
    "    print(content)\n",
    "scrap()"
   ]
  },
  {
   "cell_type": "code",
   "execution_count": null,
   "id": "e863efd3",
   "metadata": {},
   "outputs": [],
   "source": []
  }
 ],
 "metadata": {
  "kernelspec": {
   "display_name": "Python 3",
   "language": "python",
   "name": "python3"
  },
  "language_info": {
   "codemirror_mode": {
    "name": "ipython",
    "version": 3
   },
   "file_extension": ".py",
   "mimetype": "text/x-python",
   "name": "python",
   "nbconvert_exporter": "python",
   "pygments_lexer": "ipython3",
   "version": "3.8.5"
  }
 },
 "nbformat": 4,
 "nbformat_minor": 5
}
