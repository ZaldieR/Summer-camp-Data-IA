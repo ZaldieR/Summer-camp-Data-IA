{
 "cells": [
  {
   "cell_type": "code",
   "execution_count": 6,
   "id": "0a18494d",
   "metadata": {},
   "outputs": [],
   "source": [
    "import requests\n",
    "\n",
    "token = \"eyJ0eXAiOiJKV1QiLCJub25jZSI6IjJMOXdiUnFMOVBwYzJ5aTk0VzhXa1dJNWI4UjFxa3l4THc3VGtzRmktWGciLCJhbGciOiJSUzI1NiIsIng1dCI6Im5PbzNaRHJPRFhFSzFqS1doWHNsSFJfS1hFZyIsImtpZCI6Im5PbzNaRHJPRFhFSzFqS1doWHNsSFJfS1hFZyJ9.eyJhdWQiOiIwMDAwMDAwMy0wMDAwLTAwMDAtYzAwMC0wMDAwMDAwMDAwMDAiLCJpc3MiOiJodHRwczovL3N0cy53aW5kb3dzLm5ldC85MDFjYjRjYS1iODYyLTQwMjktOTMwNi1lNWNkMGY2ZDlmODYvIiwiaWF0IjoxNjIzODMwMjM1LCJuYmYiOjE2MjM4MzAyMzUsImV4cCI6MTYyMzgzNDEzNSwiYWNjdCI6MCwiYWNyIjoiMSIsImFjcnMiOlsidXJuOnVzZXI6cmVnaXN0ZXJzZWN1cml0eWluZm8iLCJ1cm46bWljcm9zb2Z0OnJlcTEiLCJ1cm46bWljcm9zb2Z0OnJlcTIiLCJ1cm46bWljcm9zb2Z0OnJlcTMiLCJjMSIsImMyIiwiYzMiLCJjNCIsImM1IiwiYzYiLCJjNyIsImM4IiwiYzkiLCJjMTAiLCJjMTEiLCJjMTIiLCJjMTMiLCJjMTQiLCJjMTUiLCJjMTYiLCJjMTciLCJjMTgiLCJjMTkiLCJjMjAiLCJjMjEiLCJjMjIiLCJjMjMiLCJjMjQiLCJjMjUiXSwiYWlvIjoiQVVRQXUvOFRBQUFBalFhaEUrSi9pZnRzVGdJckRoY2RpSUlWMlFoMTBSNXkyZDNYemlNOWtoSjBnV3RtdzJ3TFdVa1IrdVliT0N5cnRJVFJlamVta213eU94dkw0dE9ua0E9PSIsImFtciI6WyJwd2QiLCJtZmEiXSwiYXBwX2Rpc3BsYXluYW1lIjoiR3JhcGggZXhwbG9yZXIgKG9mZmljaWFsIHNpdGUpIiwiYXBwaWQiOiJkZThiYzhiNS1kOWY5LTQ4YjEtYThhZC1iNzQ4ZGE3MjUwNjQiLCJhcHBpZGFjciI6IjAiLCJmYW1pbHlfbmFtZSI6IkxvcmVuem8iLCJnaXZlbl9uYW1lIjoiTWF0aGlzIiwiaWR0eXAiOiJ1c2VyIiwiaXBhZGRyIjoiOTIuMTY3LjQxLjIxMyIsIm5hbWUiOiJNYXRoaXMgTG9yZW56byIsIm9pZCI6IjRjOGI0YjdiLThhNTItNDg3NC05NGFkLWM4NDk4NjE5OGVlZiIsIm9ucHJlbV9zaWQiOiJTLTEtNS0yMS0xNTUyNDM1Mjc3LTE1OTY0OTU3OTUtMzA4OTYxMzczMS0zNzY2NiIsInBsYXRmIjoiMTQiLCJwdWlkIjoiMTAwMzIwMDA3QTRCQUE3MCIsInJoIjoiMC5BWFFBeXJRY2tHSzRLVUNUQnVYTkQyMmZoclhJaTk3NTJiRklxSzIzU05weVVHUjBBR2cuIiwic2NwIjoiR3JvdXAuUmVhZC5BbGwgR3JvdXAuUmVhZFdyaXRlLkFsbCBvcGVuaWQgcHJvZmlsZSBVc2VyLlJlYWQgZW1haWwiLCJzaWduaW5fc3RhdGUiOlsia21zaSJdLCJzdWIiOiJSQW50TW55MmJVQ1hDaTIxSndCWXIwQXN5SG9CRTdzUVhrTVg0UmMtRTNjIiwidGVuYW50X3JlZ2lvbl9zY29wZSI6IkVVIiwidGlkIjoiOTAxY2I0Y2EtYjg2Mi00MDI5LTkzMDYtZTVjZDBmNmQ5Zjg2IiwidW5pcXVlX25hbWUiOiJtYXRoaXMubG9yZW56b0BlcGl0ZWNoLmV1IiwidXBuIjoibWF0aGlzLmxvcmVuem9AZXBpdGVjaC5ldSIsInV0aSI6Inc3UlRydVduOEVpNWg5MjZkbnd3QUEiLCJ2ZXIiOiIxLjAiLCJ3aWRzIjpbImI3OWZiZjRkLTNlZjktNDY4OS04MTQzLTc2YjE5NGU4NTUwOSJdLCJ4bXNfc3QiOnsic3ViIjoiNkpfTWhOTGh4SGhvd1BIWjF5NV9aWjNWaDZsNUJyLVRsQWtlNm8weEZiQSJ9LCJ4bXNfdGNkdCI6MTQxNzgwNDg4N30.kkBZlgghio0gK5Ii0IGYYb-4V5OwtV2zO5s2ijNbqa-X_WQQgQU9BE5StXiwlpc5RrwECg_xTkOaQ0low2HktT3ara9UhwaSeunZeOGssAu5k-QggXmg87gmoRx0Pnwy9TnsE1kQ9gA1CMLhzUi18DM37tEq5R7W-GNSyX5MLoyAJ3Cj1d4JminaFac2tgzih3IVxRl63I57LPe966PyA33hZWp1X9vP8SlgmPu7uXh49s5BnPJV1ewCuHXdR35haX-dMLjcHXm3tFSGX0JSu5do5SQ6RKqdcSxJ6oIXGRXRVDW8XG-4i-c7jWmeuA_uBPcYFdaEAopMff4I9aPTNw\""
   ]
  },
  {
   "cell_type": "code",
   "execution_count": 7,
   "id": "8db6b4de",
   "metadata": {},
   "outputs": [],
   "source": [
    "url = f\"https://graph.microsoft.com/beta/me/memberOf/\""
   ]
  },
  {
   "cell_type": "code",
   "execution_count": 10,
   "id": "ab304b90",
   "metadata": {},
   "outputs": [
    {
     "name": "stdout",
     "output_type": "stream",
     "text": [
      "Epitech Montpellier 1d76f24a-f6e3-4712-8a53-3bd36cfe4102\n",
      "Summer Camp - DATA IA #2021 c1995755-c035-4c13-bc82-6b65b5c1d206\n"
     ]
    }
   ],
   "source": [
    "def member_of():\n",
    "    res = {}\n",
    "    url = \"https://graph.microsoft.com/beta/me/memberOf/\"\n",
    "    content = requests.get(url, headers={'Authorization': token})\n",
    "    data = content.json()\n",
    "    for i in data['value']:\n",
    "        res[i['displayName']] = i['id']\n",
    "    return res\n",
    "\n",
    "teams = member_of()\n",
    "for name, id in teams.items():\n",
    "    print(name, id)"
   ]
  },
  {
   "cell_type": "code",
   "execution_count": 13,
   "id": "09d8d607",
   "metadata": {},
   "outputs": [
    {
     "name": "stdout",
     "output_type": "stream",
     "text": [
      "General 19:TmOezNIANe1Df0yvfM-JkwZ4U9rnelZi3jjDDFvOGdw1@thread.tacv2\n",
      "0 - Culture DATA IA 19:55f4dbfdd267418cbcdc9f8415dcb0f9@thread.tacv2\n",
      "1 - Python Data Structure 19:2c0558c6084149058dfb56e28eaca66a@thread.tacv2\n",
      "2 - Dataframe and plotting diagrams 19:92d2d639296a484d8d450fec0616fd8e@thread.tacv2\n",
      "3 - HTTP Requests with API 19:49df84fd0c2a4cf386866cb7cf90153a@thread.tacv2\n",
      "4 - Web Scraping 19:84ae5e552977492f8f00ac85d5105777@thread.tacv2\n",
      "5 - HTTP Server 19:781e8b70d63c40869015fe56377f3f7b@thread.tacv2\n",
      "6 - RUSH - Data Analysis 19:dae8186c0f9c43a9ae20c34bcad9bd5b@thread.tacv2\n",
      "7 - Natural Language Processing 19:bc3c274d01f54727b10e46d0f767d983@thread.tacv2\n"
     ]
    }
   ],
   "source": [
    "def get_channels(team_id):\n",
    "    res = {}\n",
    "    url = f\"https://graph.microsoft.com/beta/teams/{team_id}/channels\"\n",
    "    content = requests.get(url, headers={'Authorization': token})\n",
    "    data = content.json()\n",
    "    for i in data['value']:\n",
    "        res[i['displayName']] = i['id']\n",
    "    return res\n",
    "\n",
    "channels = get_channels(\"c1995755-c035-4c13-bc82-6b65b5c1d206\")\n",
    "for name, id in channels.items():\n",
    "    print(name, id)"
   ]
  },
  {
   "cell_type": "code",
   "execution_count": null,
   "id": "8c7cf37b",
   "metadata": {},
   "outputs": [],
   "source": []
  }
 ],
 "metadata": {
  "kernelspec": {
   "display_name": "Python 3",
   "language": "python",
   "name": "python3"
  },
  "language_info": {
   "codemirror_mode": {
    "name": "ipython",
    "version": 3
   },
   "file_extension": ".py",
   "mimetype": "text/x-python",
   "name": "python",
   "nbconvert_exporter": "python",
   "pygments_lexer": "ipython3",
   "version": "3.8.5"
  }
 },
 "nbformat": 4,
 "nbformat_minor": 5
}
