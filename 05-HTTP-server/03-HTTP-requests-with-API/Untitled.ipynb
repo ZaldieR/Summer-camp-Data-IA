{
 "cells": [
  {
   "cell_type": "code",
   "execution_count": 63,
   "id": "a938bdc1",
   "metadata": {},
   "outputs": [],
   "source": [
    "import requests\n",
    "\n",
    "token = \"eyJ0eXAiOiJKV1QiLCJub25jZSI6Ik5LRGZfcG95cVNKdER4QTFfVWh1UUxVWllrSmVjdDdDeTZrTTE1eXVWZHciLCJhbGciOiJSUzI1NiIsIng1dCI6Im5PbzNaRHJPRFhFSzFqS1doWHNsSFJfS1hFZyIsImtpZCI6Im5PbzNaRHJPRFhFSzFqS1doWHNsSFJfS1hFZyJ9.eyJhdWQiOiIwMDAwMDAwMy0wMDAwLTAwMDAtYzAwMC0wMDAwMDAwMDAwMDAiLCJpc3MiOiJodHRwczovL3N0cy53aW5kb3dzLm5ldC85MDFjYjRjYS1iODYyLTQwMjktOTMwNi1lNWNkMGY2ZDlmODYvIiwiaWF0IjoxNjIzODI2NjY2LCJuYmYiOjE2MjM4MjY2NjYsImV4cCI6MTYyMzgzMDU2NiwiYWNjdCI6MCwiYWNyIjoiMSIsImFjcnMiOlsidXJuOnVzZXI6cmVnaXN0ZXJzZWN1cml0eWluZm8iLCJ1cm46bWljcm9zb2Z0OnJlcTEiLCJ1cm46bWljcm9zb2Z0OnJlcTIiLCJ1cm46bWljcm9zb2Z0OnJlcTMiLCJjMSIsImMyIiwiYzMiLCJjNCIsImM1IiwiYzYiLCJjNyIsImM4IiwiYzkiLCJjMTAiLCJjMTEiLCJjMTIiLCJjMTMiLCJjMTQiLCJjMTUiLCJjMTYiLCJjMTciLCJjMTgiLCJjMTkiLCJjMjAiLCJjMjEiLCJjMjIiLCJjMjMiLCJjMjQiLCJjMjUiXSwiYWlvIjoiQVVRQXUvOFRBQUFBTzNRWlhqNm5tdXIydU1wNFBaR0xKaDkxZzdPK3hQTyszZEdGeVdxN2VzV0lBZ3BWT2Izd0p2NEhSc0U3NER2MVZVVzhNL2FKU3hwR2V2b21qeUxObWc9PSIsImFtciI6WyJwd2QiLCJtZmEiXSwiYXBwX2Rpc3BsYXluYW1lIjoiR3JhcGggZXhwbG9yZXIgKG9mZmljaWFsIHNpdGUpIiwiYXBwaWQiOiJkZThiYzhiNS1kOWY5LTQ4YjEtYThhZC1iNzQ4ZGE3MjUwNjQiLCJhcHBpZGFjciI6IjAiLCJmYW1pbHlfbmFtZSI6IkxvcmVuem8iLCJnaXZlbl9uYW1lIjoiTWF0aGlzIiwiaWR0eXAiOiJ1c2VyIiwiaXBhZGRyIjoiOTIuMTY3LjQxLjIxMyIsIm5hbWUiOiJNYXRoaXMgTG9yZW56byIsIm9pZCI6IjRjOGI0YjdiLThhNTItNDg3NC05NGFkLWM4NDk4NjE5OGVlZiIsIm9ucHJlbV9zaWQiOiJTLTEtNS0yMS0xNTUyNDM1Mjc3LTE1OTY0OTU3OTUtMzA4OTYxMzczMS0zNzY2NiIsInBsYXRmIjoiMTQiLCJwdWlkIjoiMTAwMzIwMDA3QTRCQUE3MCIsInJoIjoiMC5BWFFBeXJRY2tHSzRLVUNUQnVYTkQyMmZoclhJaTk3NTJiRklxSzIzU05weVVHUjBBR2cuIiwic2NwIjoiR3JvdXAuUmVhZC5BbGwgR3JvdXAuUmVhZFdyaXRlLkFsbCBwcm9maWxlIG9wZW5pZCBlbWFpbCBVc2VyLlJlYWQiLCJzaWduaW5fc3RhdGUiOlsia21zaSJdLCJzdWIiOiJSQW50TW55MmJVQ1hDaTIxSndCWXIwQXN5SG9CRTdzUVhrTVg0UmMtRTNjIiwidGVuYW50X3JlZ2lvbl9zY29wZSI6IkVVIiwidGlkIjoiOTAxY2I0Y2EtYjg2Mi00MDI5LTkzMDYtZTVjZDBmNmQ5Zjg2IiwidW5pcXVlX25hbWUiOiJtYXRoaXMubG9yZW56b0BlcGl0ZWNoLmV1IiwidXBuIjoibWF0aGlzLmxvcmVuem9AZXBpdGVjaC5ldSIsInV0aSI6IjlJTHl3dWFaMUVTXzA1Q0x6WFlPQUEiLCJ2ZXIiOiIxLjAiLCJ3aWRzIjpbImI3OWZiZjRkLTNlZjktNDY4OS04MTQzLTc2YjE5NGU4NTUwOSJdLCJ4bXNfc3QiOnsic3ViIjoiNkpfTWhOTGh4SGhvd1BIWjF5NV9aWjNWaDZsNUJyLVRsQWtlNm8weEZiQSJ9LCJ4bXNfdGNkdCI6MTQxNzgwNDg4N30.lokMi4gLhLkLY4uo06kiDyEbc1V3yj7W28tySAABD955IsSYcq8AZo3gG8kUKVy5Ge2-JvtGIUS-3TypIe3m4llRmFKEPO-RvKUOYjeZyjf4XG9WQ8Ql_Gyj8gvhm3c9ugvFRxaGByeS_HTxSvArmg2Qk7e1pQ7GBpbzxwS3FkYCg3L3V9jg9jPjTn3bnginLlRINpFc_QXX2-RkX1xwSGQKerzTi7xvjt3xvO0yuFRN-m_kvJzI7Tbt-jyIrjf2TQVHftWYWAVX-pF9i4tbOFfuhyPSO7FzUjZsk6UxA3ehAaJUzmig4n6wkswyLK--jDOuqz4B8-YfJvUksCymYQ\""
   ]
  },
  {
   "cell_type": "code",
   "execution_count": 64,
   "id": "814caba8",
   "metadata": {},
   "outputs": [],
   "source": [
    "url = f\"https://graph.microsoft.com/beta/me/memberOf/\""
   ]
  },
  {
   "cell_type": "code",
   "execution_count": 67,
   "id": "f8d7f5ba",
   "metadata": {},
   "outputs": [
    {
     "name": "stdout",
     "output_type": "stream",
     "text": [
      "{'@odata.type': '#microsoft.graph.group', '@odata.id': 'https://graph.microsoft.com/v2/901cb4ca-b862-4029-9306-e5cd0f6d9f86/directoryObjects/1d76f24a-f6e3-4712-8a53-3bd36cfe4102/Microsoft.DirectoryServices.Group', 'id': '1d76f24a-f6e3-4712-8a53-3bd36cfe4102', 'deletedDateTime': None, 'classification': None, 'createdDateTime': '2020-03-12T13:36:05Z', 'createdByAppId': 'cc15fd57-2c6c-4117-a88c-83b1d56b4bbe', 'organizationId': '901cb4ca-b862-4029-9306-e5cd0f6d9f86', 'description': 'Epitech Montpellier', 'displayName': 'Epitech Montpellier', 'expirationDateTime': None, 'groupTypes': ['Unified'], 'infoCatalogs': [], 'isAssignableToRole': None, 'isManagementRestricted': None, 'mail': 'EpitechMontpellier@epitechfr.onmicrosoft.com', 'mailEnabled': True, 'mailNickname': 'EpitechMontpellier', 'membershipRule': None, 'membershipRuleProcessingState': None, 'onPremisesDomainName': None, 'onPremisesLastSyncDateTime': None, 'onPremisesNetBiosName': None, 'onPremisesSamAccountName': None, 'onPremisesSecurityIdentifier': None, 'onPremisesSyncEnabled': None, 'preferredDataLocation': None, 'preferredLanguage': None, 'proxyAddresses': ['SMTP:EpitechMontpellier@epitechfr.onmicrosoft.com', 'SPO:SPO_739d216a-d44c-474f-832e-797eece4373a@SPO_901cb4ca-b862-4029-9306-e5cd0f6d9f86'], 'renewedDateTime': '2020-03-12T13:36:05Z', 'resourceBehaviorOptions': ['WelcomeEmailDisabled', 'SubscribeMembersToCalendarEventsDisabled', 'HideGroupInOutlook'], 'resourceProvisioningOptions': ['Team'], 'securityEnabled': False, 'securityIdentifier': 'S-1-12-1-494334538-1192425187-3543880586-37879404', 'theme': None, 'visibility': 'Private', 'writebackConfiguration': {'isEnabled': None, 'onPremisesGroupType': None}, 'onPremisesProvisioningErrors': []}\n",
      "{'@odata.type': '#microsoft.graph.group', '@odata.id': 'https://graph.microsoft.com/v2/901cb4ca-b862-4029-9306-e5cd0f6d9f86/directoryObjects/c1995755-c035-4c13-bc82-6b65b5c1d206/Microsoft.DirectoryServices.Group', 'id': 'c1995755-c035-4c13-bc82-6b65b5c1d206', 'deletedDateTime': None, 'classification': None, 'createdDateTime': '2021-06-10T12:16:22Z', 'createdByAppId': 'cc15fd57-2c6c-4117-a88c-83b1d56b4bbe', 'organizationId': '901cb4ca-b862-4029-9306-e5cd0f6d9f86', 'description': '2 semaines intensives pour apprendre les bases de la data science', 'displayName': 'Summer Camp - DATA IA #2021', 'expirationDateTime': None, 'groupTypes': ['Unified'], 'infoCatalogs': [], 'isAssignableToRole': None, 'isManagementRestricted': None, 'mail': 'SummerCamp-DATAIA2021@epitechfr.onmicrosoft.com', 'mailEnabled': True, 'mailNickname': 'SummerCamp-DATAIA2021', 'membershipRule': None, 'membershipRuleProcessingState': None, 'onPremisesDomainName': None, 'onPremisesLastSyncDateTime': None, 'onPremisesNetBiosName': None, 'onPremisesSamAccountName': None, 'onPremisesSecurityIdentifier': None, 'onPremisesSyncEnabled': None, 'preferredDataLocation': None, 'preferredLanguage': None, 'proxyAddresses': ['SPO:SPO_de17128c-5ee6-41ed-a1a3-a69a529d9ed4@SPO_901cb4ca-b862-4029-9306-e5cd0f6d9f86', 'SMTP:SummerCamp-DATAIA2021@epitechfr.onmicrosoft.com'], 'renewedDateTime': '2021-06-10T12:16:22Z', 'resourceBehaviorOptions': ['HideGroupInOutlook', 'WelcomeEmailDisabled', 'ConnectorsDisabled', 'SubscribeNewGroupMembers'], 'resourceProvisioningOptions': ['Team'], 'securityEnabled': False, 'securityIdentifier': 'S-1-12-1-3248052053-1276362805-1701544636-114475445', 'theme': None, 'visibility': 'HiddenMembership', 'extension_fe2174665583431c953114ff7268b7b3_Education_ObjectType': 'Section', 'writebackConfiguration': {'isEnabled': None, 'onPremisesGroupType': None}, 'onPremisesProvisioningErrors': []}\n"
     ]
    }
   ],
   "source": [
    "#print(url)\n",
    "#content = requests.get(url, headers={'Authorization': token})\n",
    "#data = content.json()\n",
    "#print(data['value'])\n",
    "\n",
    "def member_of():\n",
    "    res = {}\n",
    "    url = f\"https://graph.microsoft.com/beta/me/memberOf/\"\n",
    "    content = requests.get(url, headers={'Authorization': token})\n",
    "    data = content.json()\n",
    "    for i in data['value']:\n",
    "        res['name'] = i['displayName']\n",
    "        res['id'] = i['displayName']\n",
    "member_of()"
   ]
  },
  {
   "cell_type": "code",
   "execution_count": null,
   "id": "89ec7c2d",
   "metadata": {},
   "outputs": [],
   "source": []
  }
 ],
 "metadata": {
  "kernelspec": {
   "display_name": "Python 3",
   "language": "python",
   "name": "python3"
  },
  "language_info": {
   "codemirror_mode": {
    "name": "ipython",
    "version": 3
   },
   "file_extension": ".py",
   "mimetype": "text/x-python",
   "name": "python",
   "nbconvert_exporter": "python",
   "pygments_lexer": "ipython3",
   "version": "3.8.5"
  }
 },
 "nbformat": 4,
 "nbformat_minor": 5
}
