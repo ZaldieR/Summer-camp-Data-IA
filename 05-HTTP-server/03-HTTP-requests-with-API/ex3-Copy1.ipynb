{
 "cells": [
  {
   "cell_type": "code",
   "execution_count": 9,
   "id": "0a18494d",
   "metadata": {},
   "outputs": [],
   "source": [
    "import requests\n",
    "\n",
    "token = \"eyJ0eXAiOiJKV1QiLCJub25jZSI6InpZbklVSTllek44akx3ME5CeVEwWWJNYTJ6REF0Zm9EcE5qUjJWd1N4M3MiLCJhbGciOiJSUzI1NiIsIng1dCI6Im5PbzNaRHJPRFhFSzFqS1doWHNsSFJfS1hFZyIsImtpZCI6Im5PbzNaRHJPRFhFSzFqS1doWHNsSFJfS1hFZyJ9.eyJhdWQiOiIwMDAwMDAwMy0wMDAwLTAwMDAtYzAwMC0wMDAwMDAwMDAwMDAiLCJpc3MiOiJodHRwczovL3N0cy53aW5kb3dzLm5ldC85MDFjYjRjYS1iODYyLTQwMjktOTMwNi1lNWNkMGY2ZDlmODYvIiwiaWF0IjoxNjIzODQ0NzkxLCJuYmYiOjE2MjM4NDQ3OTEsImV4cCI6MTYyMzg0ODY5MSwiYWNjdCI6MCwiYWNyIjoiMSIsImFjcnMiOlsidXJuOnVzZXI6cmVnaXN0ZXJzZWN1cml0eWluZm8iLCJ1cm46bWljcm9zb2Z0OnJlcTEiLCJ1cm46bWljcm9zb2Z0OnJlcTIiLCJ1cm46bWljcm9zb2Z0OnJlcTMiLCJjMSIsImMyIiwiYzMiLCJjNCIsImM1IiwiYzYiLCJjNyIsImM4IiwiYzkiLCJjMTAiLCJjMTEiLCJjMTIiLCJjMTMiLCJjMTQiLCJjMTUiLCJjMTYiLCJjMTciLCJjMTgiLCJjMTkiLCJjMjAiLCJjMjEiLCJjMjIiLCJjMjMiLCJjMjQiLCJjMjUiXSwiYWlvIjoiQVVRQXUvOFRBQUFBSDByeU0yWHIzZ29Mck10bXFCMFhJWWdtVGM5dWJlayswN2FESG1yd01uV0lQTjR6QW9pWEFNclBFdmZKSmhPRG0vdTdjc2ZITkkvOTB6QUNHYWYrTXc9PSIsImFtciI6WyJwd2QiLCJtZmEiXSwiYXBwX2Rpc3BsYXluYW1lIjoiR3JhcGggZXhwbG9yZXIgKG9mZmljaWFsIHNpdGUpIiwiYXBwaWQiOiJkZThiYzhiNS1kOWY5LTQ4YjEtYThhZC1iNzQ4ZGE3MjUwNjQiLCJhcHBpZGFjciI6IjAiLCJmYW1pbHlfbmFtZSI6IkxvcmVuem8iLCJnaXZlbl9uYW1lIjoiTWF0aGlzIiwiaWR0eXAiOiJ1c2VyIiwiaXBhZGRyIjoiOTIuMTY3LjQxLjIxMyIsIm5hbWUiOiJNYXRoaXMgTG9yZW56byIsIm9pZCI6IjRjOGI0YjdiLThhNTItNDg3NC05NGFkLWM4NDk4NjE5OGVlZiIsIm9ucHJlbV9zaWQiOiJTLTEtNS0yMS0xNTUyNDM1Mjc3LTE1OTY0OTU3OTUtMzA4OTYxMzczMS0zNzY2NiIsInBsYXRmIjoiMTQiLCJwdWlkIjoiMTAwMzIwMDA3QTRCQUE3MCIsInJoIjoiMC5BWFFBeXJRY2tHSzRLVUNUQnVYTkQyMmZoclhJaTk3NTJiRklxSzIzU05weVVHUjBBR2cuIiwic2NwIjoiR3JvdXAuUmVhZC5BbGwgR3JvdXAuUmVhZFdyaXRlLkFsbCBvcGVuaWQgcHJvZmlsZSBVc2VyLlJlYWQgZW1haWwiLCJzaWduaW5fc3RhdGUiOlsia21zaSJdLCJzdWIiOiJSQW50TW55MmJVQ1hDaTIxSndCWXIwQXN5SG9CRTdzUVhrTVg0UmMtRTNjIiwidGVuYW50X3JlZ2lvbl9zY29wZSI6IkVVIiwidGlkIjoiOTAxY2I0Y2EtYjg2Mi00MDI5LTkzMDYtZTVjZDBmNmQ5Zjg2IiwidW5pcXVlX25hbWUiOiJtYXRoaXMubG9yZW56b0BlcGl0ZWNoLmV1IiwidXBuIjoibWF0aGlzLmxvcmVuem9AZXBpdGVjaC5ldSIsInV0aSI6Ik9FZHdsQUxxZWsyYXJVSWcxQjVEQUEiLCJ2ZXIiOiIxLjAiLCJ3aWRzIjpbImI3OWZiZjRkLTNlZjktNDY4OS04MTQzLTc2YjE5NGU4NTUwOSJdLCJ4bXNfc3QiOnsic3ViIjoiNkpfTWhOTGh4SGhvd1BIWjF5NV9aWjNWaDZsNUJyLVRsQWtlNm8weEZiQSJ9LCJ4bXNfdGNkdCI6MTQxNzgwNDg4N30.kD6-WE0EDmZQ-o_Ffp5bvxxN5azBd5bYNNdt1_SDbspE-u9LlM_Tr9FI5-L-_eJmr9gSgqTqkHhFutrIR4LeLZgzfvSr_6BF6QByya2r3lQxDBWc_zu1FkyzcXYOXajmmXzht01Ixx6Qa3pcBxJqQYfhcA5K7Mof_Hxp88EEI37R49dL2OZCdt871MfsBPZKkhOVbtlE0HWsD31PViCZbxnmstxoYJIO5mTubTvkBa4Z18BOjOSFfEeJ3duEoUmFNmKieLA2xX1vEccJtyEHBFWZuLjIm6ZLPXZYw_18pv20V9XLdEoQP9sI9g-J5OPXwCT6w3xvJ7R2QJMjAn3c6A\""
   ]
  },
  {
   "cell_type": "code",
   "execution_count": 10,
   "id": "ab304b90",
   "metadata": {},
   "outputs": [
    {
     "name": "stdout",
     "output_type": "stream",
     "text": [
      "Epitech Montpellier 1d76f24a-f6e3-4712-8a53-3bd36cfe4102\n",
      "Summer Camp - DATA IA #2021 c1995755-c035-4c13-bc82-6b65b5c1d206\n"
     ]
    }
   ],
   "source": [
    "def member_of():\n",
    "    res = {}\n",
    "    url = \"https://graph.microsoft.com/beta/me/memberOf/\"\n",
    "    content = requests.get(url, headers={'Authorization': token})\n",
    "    data = content.json()\n",
    "    for i in data['value']:\n",
    "        res[i['displayName']] = i['id']\n",
    "    return res\n",
    "\n",
    "teams = member_of()\n",
    "for name, id in teams.items():\n",
    "    print(name, id)"
   ]
  },
  {
   "cell_type": "code",
   "execution_count": 11,
   "id": "09d8d607",
   "metadata": {},
   "outputs": [
    {
     "name": "stdout",
     "output_type": "stream",
     "text": [
      "General 19:TmOezNIANe1Df0yvfM-JkwZ4U9rnelZi3jjDDFvOGdw1@thread.tacv2\n",
      "0 - Culture DATA IA 19:55f4dbfdd267418cbcdc9f8415dcb0f9@thread.tacv2\n",
      "1 - Python Data Structure 19:2c0558c6084149058dfb56e28eaca66a@thread.tacv2\n",
      "2 - Dataframe and plotting diagrams 19:92d2d639296a484d8d450fec0616fd8e@thread.tacv2\n",
      "3 - HTTP Requests with API 19:49df84fd0c2a4cf386866cb7cf90153a@thread.tacv2\n",
      "4 - Web Scraping 19:84ae5e552977492f8f00ac85d5105777@thread.tacv2\n",
      "5 - HTTP Server 19:781e8b70d63c40869015fe56377f3f7b@thread.tacv2\n",
      "6 - RUSH - Data Analysis 19:dae8186c0f9c43a9ae20c34bcad9bd5b@thread.tacv2\n",
      "7 - Natural Language Processing 19:bc3c274d01f54727b10e46d0f767d983@thread.tacv2\n"
     ]
    }
   ],
   "source": [
    "def get_channels(team_id):\n",
    "    res = {}\n",
    "    url = f\"https://graph.microsoft.com/beta/teams/{team_id}/channels\"\n",
    "    content = requests.get(url, headers={'Authorization': token})\n",
    "    data = content.json()\n",
    "    for i in data['value']:\n",
    "        res[i['displayName']] = i['id']\n",
    "    return res\n",
    "\n",
    "channels = get_channels(\"c1995755-c035-4c13-bc82-6b65b5c1d206\")\n",
    "for name, id in channels.items():\n",
    "    print(name, id)"
   ]
  },
  {
   "cell_type": "code",
   "execution_count": 14,
   "id": "8c7cf37b",
   "metadata": {},
   "outputs": [
    {
     "name": "stdout",
     "output_type": "stream",
     "text": [
      "{'content': 'Ca va gros trkl la zone ?', 'id': '1623836611406'}\n",
      "\n",
      "\n",
      "{'content': 'ah oe lourd tout pareil', 'id': '1623836643401'}\n",
      "{'content': 'ca code', 'id': '1623836633050'}\n",
      "\n",
      "\n",
      "\n",
      "\n",
      "{'content': '<div><div>coucou <at id=\"0\">Jimmy Agulla</at>, tu peux répondre stp ?</div>\\n</div>', 'id': '1623836574984'}\n",
      "\n",
      "\n",
      "{'content': \"j'vais te retrouver irl\", 'id': '1623836587705'}\n",
      "\n",
      "\n",
      "\n",
      "\n",
      "{'content': 'A planifié une réunion<attachment id=\"1623825149775\"></attachment>', 'id': '1623825147230'}\n",
      "\n",
      "\n",
      "{'content': '<systemEventMessage/>', 'id': '1623829583701'}\n",
      "{'content': 'thanks', 'id': '1623829559931'}\n",
      "{'content': 'Merci !', 'id': '1623829559534'}\n",
      "{'content': '<p>Merci ! A toute!</p>', 'id': '1623829550168'}\n",
      "{'content': 'merci', 'id': '1623829549130'}\n",
      "{'content': 'merci', 'id': '1623829546685'}\n",
      "{'content': 'merci', 'id': '1623829545123'}\n",
      "{'content': '<div><div>merci <span class=\"animated-emoticon-20\" title=\"Smile\" type=\"smile\"><img itemid=\"smile\" itemscope=\"\" itemtype=\"http://schema.skype.com/Emoji\" src=\"https://statics.teams.cdn.office.net/evergreen-assets/personal-expressions/v1/assets/emoticons/smile/default/20_f.png?etag=v73\" alt=\"🙂\" style=\"width:20px; height:20px\"></span></div>\\n</div>', 'id': '1623829543798'}\n",
      "{'content': 'merci (:', 'id': '1623829542997'}\n",
      "{'content': 'merci', 'id': '1623829541515'}\n",
      "{'content': 'merci', 'id': '1623829538278'}\n",
      "{'content': '<p><a href=\"https://fr.python-requests.org/en/latest/\" target=\"_blank\" rel=\"noreferrer noopener\" title=\"https://fr.python-requests.org/en/latest/\">Requests: HTTP pour les humains — Requests 0.13.9 documentation (python-requests.org)</a></p>', 'id': '1623829323255'}\n",
      "{'content': 'Je suis trop chaud', 'id': '1623829276713'}\n",
      "{'content': '<p>tellement triste</p>', 'id': '1623829128659'}\n",
      "{'content': '<p>nannnn <at id=\"0\">Laurent Amat</at>  avais raison...</p>', 'id': '1623829124729'}\n",
      "{'content': '<p>met toi en nav privée et tu vas sur le monde <span title=\"Smile\" type=\"(smile)\" class=\"animated-emoticon-20-smile\"><img itemscope=\"\" itemtype=\"http://schema.skype.com/Emoji\" itemid=\"smile\" src=\"https://statics.teams.cdn.office.net/evergreen-assets/personal-expressions/v1/assets/emoticons/smile/default/20_f.png\" title=\"Smile\" alt=\"🙂\" style=\"width:20px; height:20px\"></span></p>', 'id': '1623828810198'}\n",
      "{'content': '<p>#autolog</p>', 'id': '1623828686635'}\n",
      "{'content': '<p>#token </p>', 'id': '1623828679609'}\n",
      "{'content': 'la magie des tokens', 'id': '1623828676299'}\n",
      "{'content': '<p>oui</p>', 'id': '1623828644836'}\n",
      "\n",
      "\n",
      "\n",
      "\n",
      "{'content': '<systemEventMessage/>', 'id': '1623328268254'}\n",
      "\n",
      "\n",
      "\n",
      "\n",
      "\n",
      "\n"
     ]
    }
   ],
   "source": [
    "def get_messages(team_id, channel_id):\n",
    "    res = {}\n",
    "    msg = []\n",
    "    index = 0\n",
    "    start_url = \"https://graph.microsoft.com/beta\"\n",
    "    url = f\"{start_url}/teams/{team_id}/channels/{channel_id}/messages\"\n",
    "    content = requests.get(url, headers={'Authorization': token})\n",
    "    data = content.json()\n",
    "    for i in data['value']:\n",
    "        reps = []\n",
    "        msg.append({'msg':{'content':i['body']['content'], 'id':i['id']}, 'reps':[]})\n",
    "        new_url = f\"{start_url}/teams/{team_id}/channels/{channel_id}/messages/{i['id']}/replies\"\n",
    "        new_content = requests.get(new_url, headers={'Authorization': token})\n",
    "        new_data = new_content.json()\n",
    "        for j in new_data['value']:\n",
    "            reps.append({'content':j['body']['content'], 'id': j['id']})\n",
    "        msg[index]['reps'] = reps\n",
    "        index += 1\n",
    "    return msg\n",
    "\n",
    "msgs = get_messages(\"c1995755-c035-4c13-bc82-6b65b5c1d206\", \"19:49df84fd0c2a4cf386866cb7cf90153a@thread.tacv2\")\n",
    "for i in msgs:\n",
    "    print(i['msg'])\n",
    "    print(\"\\n\")\n",
    "    for j in i['reps']:\n",
    "        print(j)\n",
    "    print(\"\\n\\n\\n\")"
   ]
  },
  {
   "cell_type": "code",
   "execution_count": null,
   "id": "838bd5d2",
   "metadata": {},
   "outputs": [],
   "source": []
  }
 ],
 "metadata": {
  "kernelspec": {
   "display_name": "Python 3",
   "language": "python",
   "name": "python3"
  },
  "language_info": {
   "codemirror_mode": {
    "name": "ipython",
    "version": 3
   },
   "file_extension": ".py",
   "mimetype": "text/x-python",
   "name": "python",
   "nbconvert_exporter": "python",
   "pygments_lexer": "ipython3",
   "version": "3.8.5"
  }
 },
 "nbformat": 4,
 "nbformat_minor": 5
}
