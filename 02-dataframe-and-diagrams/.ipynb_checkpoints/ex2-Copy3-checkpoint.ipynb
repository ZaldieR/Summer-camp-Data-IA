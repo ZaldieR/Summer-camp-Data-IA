{
 "cells": [
  {
   "cell_type": "code",
   "execution_count": 209,
   "id": "effe964b",
   "metadata": {},
   "outputs": [],
   "source": [
    "import pandas as pd\n",
    "\n",
    "df = pd.read_csv(\"dataset.csv\")"
   ]
  },
  {
   "cell_type": "code",
   "execution_count": 210,
   "id": "7b6103ca",
   "metadata": {
    "scrolled": false
   },
   "outputs": [
    {
     "data": {
      "text/plain": [
       "reg_name              year  tax_name                            \n",
       "Auvergne-Rhône-Alpes  2012  Achats et charges externes              1.793130e+08\n",
       "                            Annuité de la dette                     2.259119e+08\n",
       "                            Autres dotations de fonctionnement      2.998237e+08\n",
       "                            Autres dotations et subventions         1.102236e+08\n",
       "                            Autres dépenses d'investissement        2.906812e+07\n",
       "                                                                        ...     \n",
       "Île-de-France         2019  Subventions reçues et participations    1.404087e+08\n",
       "                            TICPE                                   1.064901e+09\n",
       "                            TVA                                     5.087593e+08\n",
       "                            Variation du fonds de roulement        -3.736251e+07\n",
       "                            Ventes de biens et services             1.355705e+05\n",
       "Name: amount, Length: 7321, dtype: float64"
      ]
     },
     "execution_count": 210,
     "metadata": {},
     "output_type": "execute_result"
    }
   ],
   "source": [
    "df = df.groupby([\"reg_name\", \"year\", \"tax_name\"])['amount'].sum()\n",
    "df\n"
   ]
  },
  {
   "cell_type": "code",
   "execution_count": null,
   "id": "1b4d7e15",
   "metadata": {},
   "outputs": [],
   "source": []
  }
 ],
 "metadata": {
  "kernelspec": {
   "display_name": "Python 3",
   "language": "python",
   "name": "python3"
  },
  "language_info": {
   "codemirror_mode": {
    "name": "ipython",
    "version": 3
   },
   "file_extension": ".py",
   "mimetype": "text/x-python",
   "name": "python",
   "nbconvert_exporter": "python",
   "pygments_lexer": "ipython3",
   "version": "3.8.5"
  }
 },
 "nbformat": 4,
 "nbformat_minor": 5
}
