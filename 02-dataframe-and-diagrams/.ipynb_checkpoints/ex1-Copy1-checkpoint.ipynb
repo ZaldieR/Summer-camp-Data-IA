{
 "cells": [
  {
   "cell_type": "code",
   "execution_count": 1,
   "id": "effe964b",
   "metadata": {},
   "outputs": [],
   "source": [
    "import pandas as pd\n",
    "\n",
    "df = pd.read_csv(\"dataset.csv\")"
   ]
  },
  {
   "cell_type": "code",
   "execution_count": 2,
   "id": "7b6103ca",
   "metadata": {
    "scrolled": false
   },
   "outputs": [
    {
     "data": {
      "text/plain": [
       "year\n",
       "2012    3.794271e+09\n",
       "2013    4.085323e+09\n",
       "2014    3.979591e+09\n",
       "2015    4.154017e+09\n",
       "2016    4.234622e+09\n",
       "2017    7.420736e+09\n",
       "2018    7.518780e+09\n",
       "2019    7.631701e+09\n",
       "Name: amount, dtype: float64"
      ]
     },
     "execution_count": 2,
     "metadata": {},
     "output_type": "execute_result"
    }
   ],
   "source": [
    "df = df[df['tax_name'] == 'CVAE']\n",
    "df = df.groupby([\"year\"])['amount'].sum()\n",
    "df\n"
   ]
  },
  {
   "cell_type": "code",
   "execution_count": null,
   "id": "1b4d7e15",
   "metadata": {},
   "outputs": [],
   "source": []
  }
 ],
 "metadata": {
  "kernelspec": {
   "display_name": "Python 3",
   "language": "python",
   "name": "python3"
  },
  "language_info": {
   "codemirror_mode": {
    "name": "ipython",
    "version": 3
   },
   "file_extension": ".py",
   "mimetype": "text/x-python",
   "name": "python",
   "nbconvert_exporter": "python",
   "pygments_lexer": "ipython3",
   "version": "3.8.5"
  }
 },
 "nbformat": 4,
 "nbformat_minor": 5
}
